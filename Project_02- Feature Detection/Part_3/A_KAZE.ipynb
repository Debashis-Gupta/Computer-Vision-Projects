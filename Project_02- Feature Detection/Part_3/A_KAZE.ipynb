{
 "cells": [
  {
   "cell_type": "code",
   "execution_count": 8,
   "metadata": {},
   "outputs": [
    {
     "name": "stdout",
     "output_type": "stream",
     "text": [
      "Number of Keypoints Detected: 7239\n"
     ]
    }
   ],
   "source": [
    "import cv2\n",
    "\n",
    "# Load the input image\n",
    "image = cv2.imread('../Image/andrew.JPG')\n",
    "\n",
    "# Create an A-KAZE detector and extractor\n",
    "akaze = cv2.AKAZE_create()\n",
    "\n",
    "# Detect keypoints and compute descriptors\n",
    "keypoints_akaze, descriptors_akaze = akaze.detectAndCompute(image, None)\n",
    "\n",
    "# Draw keypoints on the image\n",
    "akaze_image = cv2.drawKeypoints(image, keypoints_akaze, None,color=(0,0,255), flags=cv2.DRAW_MATCHES_FLAGS_DRAW_RICH_KEYPOINTS)\n",
    "\n",
    "\n",
    "# Save the output image with keypoints\n",
    "cv2.imwrite('AKAZE.jpg', akaze_image)\n",
    "\n",
    "# Display the number of detected keypoints\n",
    "print(f\"Number of Keypoints Detected: {len(keypoints_akaze)}\")"
   ]
  },
  {
   "cell_type": "code",
   "execution_count": null,
   "metadata": {},
   "outputs": [],
   "source": []
  }
 ],
 "metadata": {
  "kernelspec": {
   "display_name": "cv",
   "language": "python",
   "name": "python3"
  },
  "language_info": {
   "codemirror_mode": {
    "name": "ipython",
    "version": 3
   },
   "file_extension": ".py",
   "mimetype": "text/x-python",
   "name": "python",
   "nbconvert_exporter": "python",
   "pygments_lexer": "ipython3",
   "version": "3.11.5"
  },
  "orig_nbformat": 4
 },
 "nbformat": 4,
 "nbformat_minor": 2
}
